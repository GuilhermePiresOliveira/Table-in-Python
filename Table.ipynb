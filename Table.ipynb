{
 "cells": [
  {
   "cell_type": "markdown",
   "metadata": {},
   "source": [
    "### <b><i>Tabela em Python"
   ]
  },
  {
   "cell_type": "markdown",
   "metadata": {},
   "source": [
    "import pandas as pd\n",
    "import numpy as np\n",
    "table = pd.DataFrame()\n",
    "\n",
    "lista= \"Teste1 Teste2 Teste3 Teste4 Teste5 Teste6\".split()\n",
    "lista\n",
    "table[\"Grupo\"] = lista\n",
    "table\n",
    "table[\"Grupo 2\"] = 0\n",
    "table.iloc[3,1] = 20\n",
    "table\n",
    "table[\"grupo3\"] = 1\n",
    "table\n",
    "table.to_excel('lista.xlsx')\n"
   ]
  },
  {
   "cell_type": "code",
   "execution_count": 5,
   "metadata": {},
   "outputs": [],
   "source": [
    "import pandas as pd\n",
    "import numpy as np\n",
    "table = pd.DataFrame()\n",
    "\n",
    "lista= \"Teste1 Teste2 Teste3 Teste4 Teste5 Teste6\".split()\n",
    "lista\n",
    "table[\"Grupo\"] = lista\n",
    "table\n",
    "table[\"Grupo 2\"] = 0\n",
    "table.iloc[3,1] = 20\n",
    "table\n",
    "table[\"grupo3\"] = 1\n",
    "table\n",
    "table.to_excel('lista.xlsx')\n"
   ]
  }
 ],
 "metadata": {
  "kernelspec": {
   "display_name": "Python 3",
   "language": "python",
   "name": "python3"
  },
  "language_info": {
   "codemirror_mode": {
    "name": "ipython",
    "version": 3
   },
   "file_extension": ".py",
   "mimetype": "text/x-python",
   "name": "python",
   "nbconvert_exporter": "python",
   "pygments_lexer": "ipython3",
   "version": "3.12.3"
  }
 },
 "nbformat": 4,
 "nbformat_minor": 2
}
